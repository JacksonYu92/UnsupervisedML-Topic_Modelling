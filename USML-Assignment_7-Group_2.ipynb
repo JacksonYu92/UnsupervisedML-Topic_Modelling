{
 "cells": [
  {
   "cell_type": "markdown",
   "id": "5450c291",
   "metadata": {},
   "source": [
    "## Assignment 7: Topic Modelling\n",
    "\n",
    "Group: Group 2"
   ]
  },
  {
   "cell_type": "markdown",
   "id": "20ab1ffe",
   "metadata": {},
   "source": [
    "### Part 1: Loading and Cleaning Twitter Data"
   ]
  },
  {
   "cell_type": "markdown",
   "id": "a8ae4422",
   "metadata": {},
   "source": [
    "1. Import the necessary libraries."
   ]
  },
  {
   "cell_type": "code",
   "execution_count": 1,
   "id": "42e74a81",
   "metadata": {},
   "outputs": [
    {
     "name": "stderr",
     "output_type": "stream",
     "text": [
      "[nltk_data] Downloading package wordnet to\n",
      "[nltk_data]     C:\\Users\\jacks\\AppData\\Roaming\\nltk_data...\n",
      "[nltk_data]   Package wordnet is already up-to-date!\n",
      "[nltk_data] Downloading package stopwords to\n",
      "[nltk_data]     C:\\Users\\jacks\\AppData\\Roaming\\nltk_data...\n",
      "[nltk_data]   Package stopwords is already up-to-date!\n",
      "C:\\Users\\jacks\\anaconda3\\envs\\UL\\lib\\site-packages\\sklearn\\decomposition\\_lda.py:29: DeprecationWarning: `np.float` is a deprecated alias for the builtin `float`. To silence this warning, use `float` by itself. Doing this will not modify any behavior and is safe. If you specifically wanted the numpy scalar type, use `np.float64` here.\n",
      "Deprecated in NumPy 1.20; for more details and guidance: https://numpy.org/devdocs/release/1.20.0-notes.html#deprecations\n",
      "  EPS = np.finfo(np.float).eps\n"
     ]
    }
   ],
   "source": [
    "import warnings                    # ignore warnings\n",
    "warnings.filterwarnings('ignore')\n",
    "import langdetect                  # language detection\n",
    "import matplotlib.pyplot           # plotting\n",
    "%matplotlib inline\n",
    "import nltk                        # natural language processing\n",
    "\n",
    "# installing specific word dictionarys used for stopword removal and lemmatization\n",
    "nltk.download('wordnet')\n",
    "nltk.download('stopwords')\n",
    "\n",
    "import numpy                       # arrays and matrics\n",
    "import pandas                      # dataframes\n",
    "import pyLDAvis                    # plotting\n",
    "import pyLDAvis.sklearn            # plotting\n",
    "import regex                       # regular expressions\n",
    "import sklearn                     # machine learning"
   ]
  },
  {
   "cell_type": "markdown",
   "id": "9604fac3",
   "metadata": {},
   "source": [
    "2. Load the LA Times health Twitter data (latimeshealth.txt) from the dropbox for this assignment."
   ]
  },
  {
   "cell_type": "code",
   "execution_count": 2,
   "id": "1aed23cd",
   "metadata": {},
   "outputs": [
    {
     "name": "stderr",
     "output_type": "stream",
     "text": [
      "C:\\Users\\jacks\\anaconda3\\envs\\UL\\lib\\site-packages\\ipykernel\\ipkernel.py:287: DeprecationWarning: `should_run_async` will not call `transform_cell` automatically in the future. Please pass the result to `transformed_cell` argument and any exception that happen during thetransform in `preprocessing_exc_tuple` in IPython 7.17 and above.\n",
      "  and should_run_async(code)\n"
     ]
    }
   ],
   "source": [
    "# load the LA Times health Twitter data \n",
    "df = pandas.read_csv('latimeshealth.txt', sep=\"|\", header=None)\n",
    "df.columns = [\"id\", \"datetime\", \"tweettext\"]"
   ]
  },
  {
   "cell_type": "markdown",
   "id": "c66eb9ea",
   "metadata": {},
   "source": [
    "3. Run a quick exploratory analysis to ascertain data size and structure. Comment on your findings."
   ]
  },
  {
   "cell_type": "code",
   "execution_count": 3,
   "id": "c7bb475f",
   "metadata": {},
   "outputs": [
    {
     "name": "stderr",
     "output_type": "stream",
     "text": [
      "C:\\Users\\jacks\\anaconda3\\envs\\UL\\lib\\site-packages\\ipykernel\\ipkernel.py:287: DeprecationWarning: `should_run_async` will not call `transform_cell` automatically in the future. Please pass the result to `transformed_cell` argument and any exception that happen during thetransform in `preprocessing_exc_tuple` in IPython 7.17 and above.\n",
      "  and should_run_async(code)\n"
     ]
    }
   ],
   "source": [
    "# define quick look function for data frame\n",
    "def dataframe_quick_look(df, nrows):\n",
    "    print(\"SHAPE:\\n{shape}\\n\".format(shape=df.shape))\n",
    "    print(\"COLUMN NAMES:\\n{names}\\n\".format(names=df.columns))\n",
    "    print(\"HEAD:\\n{head}\\n\".format(head=df.head(nrows)))"
   ]
  },
  {
   "cell_type": "code",
   "execution_count": 4,
   "id": "3e92f516",
   "metadata": {},
   "outputs": [
    {
     "name": "stdout",
     "output_type": "stream",
     "text": [
      "SHAPE:\n",
      "(4171, 3)\n",
      "\n",
      "COLUMN NAMES:\n",
      "Index(['id', 'datetime', 'tweettext'], dtype='object')\n",
      "\n",
      "HEAD:\n",
      "                   id                        datetime  \\\n",
      "0  576760256031682561  Sat Mar 14 15:02:15 +0000 2015   \n",
      "1  576715414811471872  Sat Mar 14 12:04:04 +0000 2015   \n",
      "2  576438353555365888  Fri Mar 13 17:43:07 +0000 2015   \n",
      "3  576438347003908096  Fri Mar 13 17:43:06 +0000 2015   \n",
      "4  576413058177712128  Fri Mar 13 16:02:36 +0000 2015   \n",
      "\n",
      "                                           tweettext  \n",
      "0  Five new running shoes that aim to go the extr...  \n",
      "1  Gym Rat: Disq class at Crunch is intense worko...  \n",
      "2  Noshing through thousands of ideas at Natural ...  \n",
      "3  Natural Products Expo also explores beauty, su...  \n",
      "4  Free Fitness Weekends in South Bay beach citie...  \n",
      "\n"
     ]
    },
    {
     "name": "stderr",
     "output_type": "stream",
     "text": [
      "C:\\Users\\jacks\\anaconda3\\envs\\UL\\lib\\site-packages\\ipykernel\\ipkernel.py:287: DeprecationWarning: `should_run_async` will not call `transform_cell` automatically in the future. Please pass the result to `transformed_cell` argument and any exception that happen during thetransform in `preprocessing_exc_tuple` in IPython 7.17 and above.\n",
      "  and should_run_async(code)\n"
     ]
    }
   ],
   "source": [
    "dataframe_quick_look(df, nrows=5)"
   ]
  },
  {
   "cell_type": "markdown",
   "id": "89bbd666",
   "metadata": {},
   "source": [
    "**Comments:**<br>\n",
    "The dataset has 4,171 rows and 3 columns. The three columns are 'id', 'datetime', and 'tweettext'. The data type is an object. As we can see from the above data, the id is 18 digits. The data time column includes the day, date, time, and year of the twitter comment. The tweet text contains the tweet text for that comment.  "
   ]
  },
  {
   "cell_type": "markdown",
   "id": "45bee023",
   "metadata": {},
   "source": [
    "4. Extract the tweet text and convert it to a list object. Determine the length and print out the first five elements."
   ]
  },
  {
   "cell_type": "code",
   "execution_count": 5,
   "id": "72eb3aa7",
   "metadata": {},
   "outputs": [
    {
     "name": "stdout",
     "output_type": "stream",
     "text": [
      "HEADLINES:\n",
      "['Five new running shoes that aim to go the extra mile http://lat.ms/1ELp3wU', 'Gym Rat: Disq class at Crunch is intense workout on pulley system http://lat.ms/1EKOFdr', 'Noshing through thousands of ideas at Natural Products Expo West http://lat.ms/1EHqywg', 'Natural Products Expo also explores beauty, supplements and more http://lat.ms/1EHqyfE', 'Free Fitness Weekends in South Bay beach cities aim to spark activity http://lat.ms/1EH3SMC']\n",
      "\n",
      "LENGTH:\n",
      "4171\n",
      "\n"
     ]
    },
    {
     "name": "stderr",
     "output_type": "stream",
     "text": [
      "C:\\Users\\jacks\\anaconda3\\envs\\UL\\lib\\site-packages\\ipykernel\\ipkernel.py:287: DeprecationWarning: `should_run_async` will not call `transform_cell` automatically in the future. Please pass the result to `transformed_cell` argument and any exception that happen during thetransform in `preprocessing_exc_tuple` in IPython 7.17 and above.\n",
      "  and should_run_async(code)\n"
     ]
    }
   ],
   "source": [
    "# convert tweet text to a list object\n",
    "raw = df['tweettext'].tolist()\n",
    "\n",
    "# print out the first five elements\n",
    "print(\"HEADLINES:\\n{lines}\\n\".format(lines=raw[:5]))\n",
    "\n",
    "# determine the length\n",
    "print(\"LENGTH:\\n{length}\\n\".format(length=len(raw)))"
   ]
  },
  {
   "cell_type": "markdown",
   "id": "1b54d834",
   "metadata": {},
   "source": [
    "5. Write a function to perform language detection and tokenization on white spaces, and then replace the screen names and URLs with SCREENNAME and URL, respectively. The function should also remove punctuation, numbers, and the SCREENNAME and URL replacements. Convert everything to lowercase, except SCREENNAME and URL. It should remove all stop words, perform lemmatization, and keep words with five or more letters only.  Be sure to add comments to the code."
   ]
  },
  {
   "cell_type": "code",
   "execution_count": 6,
   "id": "1ff915f5",
   "metadata": {},
   "outputs": [
    {
     "name": "stderr",
     "output_type": "stream",
     "text": [
      "C:\\Users\\jacks\\anaconda3\\envs\\UL\\lib\\site-packages\\ipykernel\\ipkernel.py:287: DeprecationWarning: `should_run_async` will not call `transform_cell` automatically in the future. Please pass the result to `transformed_cell` argument and any exception that happen during thetransform in `preprocessing_exc_tuple` in IPython 7.17 and above.\n",
      "  and should_run_async(code)\n"
     ]
    }
   ],
   "source": [
    "# use the langdetect library to detect the language of each tweet\n",
    "def do_language_identifying(txt):\n",
    "    try: the_language = langdetect.detect(txt)\n",
    "    except: the_language = 'none'\n",
    "    return the_language"
   ]
  },
  {
   "cell_type": "code",
   "execution_count": 7,
   "id": "fcdab1c1",
   "metadata": {},
   "outputs": [
    {
     "name": "stderr",
     "output_type": "stream",
     "text": [
      "C:\\Users\\jacks\\anaconda3\\envs\\UL\\lib\\site-packages\\ipykernel\\ipkernel.py:287: DeprecationWarning: `should_run_async` will not call `transform_cell` automatically in the future. Please pass the result to `transformed_cell` argument and any exception that happen during thetransform in `preprocessing_exc_tuple` in IPython 7.17 and above.\n",
      "  and should_run_async(code)\n"
     ]
    },
    {
     "name": "stdout",
     "output_type": "stream",
     "text": [
      "DETECTED LANGUAGE:\n",
      "en\n",
      "\n"
     ]
    }
   ],
   "source": [
    "# test the function with the first tweet comment\n",
    "print(\"DETECTED LANGUAGE:\\n{lang}\\n\".format(lang=do_language_identifying(raw[0])))"
   ]
  },
  {
   "cell_type": "code",
   "execution_count": 8,
   "id": "159883b8",
   "metadata": {},
   "outputs": [
    {
     "name": "stderr",
     "output_type": "stream",
     "text": [
      "C:\\Users\\jacks\\anaconda3\\envs\\UL\\lib\\site-packages\\ipykernel\\ipkernel.py:287: DeprecationWarning: `should_run_async` will not call `transform_cell` automatically in the future. Please pass the result to `transformed_cell` argument and any exception that happen during thetransform in `preprocessing_exc_tuple` in IPython 7.17 and above.\n",
      "  and should_run_async(code)\n"
     ]
    }
   ],
   "source": [
    "# define function to perform lemmatization\n",
    "# uses wordnet dictionary previously loaded\n",
    "def do_lemmatizing(wrd):\n",
    "    out = nltk.corpus.wordnet.morphy(wrd)\n",
    "    return (wrd if out is None else out)"
   ]
  },
  {
   "cell_type": "code",
   "execution_count": 9,
   "id": "ecd7c58f",
   "metadata": {},
   "outputs": [
    {
     "name": "stderr",
     "output_type": "stream",
     "text": [
      "C:\\Users\\jacks\\anaconda3\\envs\\UL\\lib\\site-packages\\ipykernel\\ipkernel.py:287: DeprecationWarning: `should_run_async` will not call `transform_cell` automatically in the future. Please pass the result to `transformed_cell` argument and any exception that happen during thetransform in `preprocessing_exc_tuple` in IPython 7.17 and above.\n",
      "  and should_run_async(code)\n"
     ]
    }
   ],
   "source": [
    "# define consolidated data cleaning function\n",
    "\n",
    "def do_tweet_cleaning(txt):\n",
    "    # identify language of tweet\n",
    "    # return null if language not english\n",
    "    lg = do_language_identifying(txt)\n",
    "    if lg != 'en':\n",
    "        return None\n",
    "    \n",
    "    # split the string on whitespace\n",
    "    out = txt.split(\" \")\n",
    "    \n",
    "    # replace screen names with SCREENNAME\n",
    "    out = ['SCREENNAME' if i.startswith('@') else i for i in out]\n",
    "    \n",
    "    # replace urls with URL\n",
    "    out = ['URL' if bool(regex.search(\"http[s]?://\", i)) else i for i in out]\n",
    "    \n",
    "    # remove all punctuation\n",
    "    out = [regex.sub(\"[^\\\\w\\\\s]|\\n\", \"\", i) for i in out]\n",
    "    \n",
    "    # remove all numerics\n",
    "    out = [regex.sub(\"^[0-9]*$\", \"\", i) for i in out]\n",
    "    \n",
    "    # make all non-keywords lowercase\n",
    "    out = [i.lower() if i not in ['SCREENNAME', 'URL'] else i for i in out]\n",
    "    \n",
    "    # remove SCREENNAME and URL\n",
    "    out = [i for i in out if i not in ['SCREENNAME', 'URL']]\n",
    "    \n",
    "    # remove stopwords\n",
    "    list_stop_words = nltk.corpus.stopwords.words(\"english\")\n",
    "    list_stop_words = [regex.sub(\"[^\\\\w\\\\s]\", \"\", i) for i in list_stop_words]\n",
    "    \n",
    "    out = [i for i in out if i not in list_stop_words]\n",
    "    \n",
    "    # lemmatizing\n",
    "    out = [do_lemmatizing(i) for i in out]\n",
    "    \n",
    "    # keep words 5 or more characters long\n",
    "    out = [i for i in out if len(i) >= 5]\n",
    "    \n",
    "    # print '.' to indicate the function is still running\n",
    "    print(\".\", end = \"\")\n",
    "    \n",
    "    return out"
   ]
  },
  {
   "cell_type": "markdown",
   "id": "55618ee1",
   "metadata": {},
   "source": [
    "6. Apply the function defined in Step 5 to every tweet. Determine the length and print out the first five lines."
   ]
  },
  {
   "cell_type": "code",
   "execution_count": 10,
   "id": "6eb47550",
   "metadata": {},
   "outputs": [
    {
     "name": "stderr",
     "output_type": "stream",
     "text": [
      "C:\\Users\\jacks\\anaconda3\\envs\\UL\\lib\\site-packages\\ipykernel\\ipkernel.py:287: DeprecationWarning: `should_run_async` will not call `transform_cell` automatically in the future. Please pass the result to `transformed_cell` argument and any exception that happen during thetransform in `preprocessing_exc_tuple` in IPython 7.17 and above.\n",
      "  and should_run_async(code)\n"
     ]
    },
    {
     "name": "stdout",
     "output_type": "stream",
     "text": [
      "................................................................................................................................................................................................................................................................................................................................................................................................................................................................................................................................................................................................................................................................................................................................................................................................................................................................................................................................................................................................................................................................................................................................................................................................................................................................................................................................................................................................................................................................................................................................................................................................................................................................................................................................................................................................................................................................................................................................................................................................................................................................................................................................................................................................................................................................................................................................................................................................................................................................................................................................................................................................................................................................................................................................................................................................................................................................................................................................................................................................................................................................................................................................................................................................................................................................................................................................................................................................................................................................................................................................................................................................................................................................................................................................................................................................................................................................................................................................................................................................................................................................................................................................................................................................................................................................."
     ]
    }
   ],
   "source": [
    "# apply the clearning function to every tweet\n",
    "clean = list(map(do_tweet_cleaning, raw))"
   ]
  },
  {
   "cell_type": "code",
   "execution_count": 11,
   "id": "7bf34816",
   "metadata": {},
   "outputs": [
    {
     "name": "stdout",
     "output_type": "stream",
     "text": [
      "HEADLINES:\n",
      "[['running', 'shoes', 'extra'], ['class', 'crunch', 'intense', 'workout', 'pulley', 'system'], ['thousand', 'natural', 'product'], ['natural', 'product', 'explore', 'beauty', 'supplement'], ['fitness', 'weekend', 'south', 'beach', 'spark', 'activity']]\n",
      "\n",
      "LENGTH:\n",
      "4171\n",
      "\n"
     ]
    },
    {
     "name": "stderr",
     "output_type": "stream",
     "text": [
      "C:\\Users\\jacks\\anaconda3\\envs\\UL\\lib\\site-packages\\ipykernel\\ipkernel.py:287: DeprecationWarning: `should_run_async` will not call `transform_cell` automatically in the future. Please pass the result to `transformed_cell` argument and any exception that happen during thetransform in `preprocessing_exc_tuple` in IPython 7.17 and above.\n",
      "  and should_run_async(code)\n"
     ]
    }
   ],
   "source": [
    "# print the first five clean lines\n",
    "print(\"HEADLINES:\\n{lines}\\n\".format(lines=clean[:5]))\n",
    "\n",
    "# print the length of the first five clean lines\n",
    "print(\"LENGTH:\\n{length}\\n\".format(length=len(clean)))"
   ]
  },
  {
   "cell_type": "markdown",
   "id": "ef75d7ed",
   "metadata": {},
   "source": [
    "7. Remove elements of the output list equal to None."
   ]
  },
  {
   "cell_type": "code",
   "execution_count": 12,
   "id": "e12a47cc",
   "metadata": {},
   "outputs": [
    {
     "name": "stdout",
     "output_type": "stream",
     "text": [
      "HEADLINES:\n",
      "[['running', 'shoes', 'extra'], ['class', 'crunch', 'intense', 'workout', 'pulley', 'system'], ['thousand', 'natural', 'product'], ['natural', 'product', 'explore', 'beauty', 'supplement'], ['fitness', 'weekend', 'south', 'beach', 'spark', 'activity']]\n",
      "\n",
      "LENGTH:\n",
      "4097\n",
      "\n"
     ]
    },
    {
     "name": "stderr",
     "output_type": "stream",
     "text": [
      "C:\\Users\\jacks\\anaconda3\\envs\\UL\\lib\\site-packages\\ipykernel\\ipkernel.py:287: DeprecationWarning: `should_run_async` will not call `transform_cell` automatically in the future. Please pass the result to `transformed_cell` argument and any exception that happen during thetransform in `preprocessing_exc_tuple` in IPython 7.17 and above.\n",
      "  and should_run_async(code)\n"
     ]
    }
   ],
   "source": [
    "# remove none types\n",
    "clean = list(filter(None.__ne__, clean))\n",
    "\n",
    "# print the first five clean lines\n",
    "print(\"HEADLINES:\\n{lines}\\n\".format(lines=clean[:5]))\n",
    "\n",
    "# print the length of the first five clean lines\n",
    "print(\"LENGTH:\\n{length}\\n\".format(length=len(clean)))"
   ]
  },
  {
   "cell_type": "markdown",
   "id": "acf14de6",
   "metadata": {},
   "source": [
    "8. Turn the elements of each tweet back into a string. Concatenate using white space. Determine the length and print out the first 10 lines."
   ]
  },
  {
   "cell_type": "code",
   "execution_count": 13,
   "id": "e5e5cf76",
   "metadata": {},
   "outputs": [
    {
     "name": "stderr",
     "output_type": "stream",
     "text": [
      "C:\\Users\\jacks\\anaconda3\\envs\\UL\\lib\\site-packages\\ipykernel\\ipkernel.py:287: DeprecationWarning: `should_run_async` will not call `transform_cell` automatically in the future. Please pass the result to `transformed_cell` argument and any exception that happen during thetransform in `preprocessing_exc_tuple` in IPython 7.17 and above.\n",
      "  and should_run_async(code)\n"
     ]
    }
   ],
   "source": [
    "# turn tokens back into string, concatenate with white spaces\n",
    "clean_sentences = [\" \".join(i) for i in clean]"
   ]
  },
  {
   "cell_type": "code",
   "execution_count": 14,
   "id": "2dced5f4",
   "metadata": {},
   "outputs": [
    {
     "name": "stdout",
     "output_type": "stream",
     "text": [
      "['running shoes extra', 'class crunch intense workout pulley system', 'thousand natural product', 'natural product explore beauty supplement', 'fitness weekend south beach spark activity', 'kayla harrison sacrifice', 'sonic treatment alzheimers disease', 'ultrasound brain restore memory alzheimers needle onlyso farin mouse', 'apple researchkit really medical research', 'warning chantix drink taking might remember']\n"
     ]
    },
    {
     "name": "stderr",
     "output_type": "stream",
     "text": [
      "C:\\Users\\jacks\\anaconda3\\envs\\UL\\lib\\site-packages\\ipykernel\\ipkernel.py:287: DeprecationWarning: `should_run_async` will not call `transform_cell` automatically in the future. Please pass the result to `transformed_cell` argument and any exception that happen during thetransform in `preprocessing_exc_tuple` in IPython 7.17 and above.\n",
      "  and should_run_async(code)\n"
     ]
    }
   ],
   "source": [
    "# print out the first 10 lines\n",
    "\n",
    "print(clean_sentences[:10])"
   ]
  },
  {
   "cell_type": "code",
   "execution_count": 15,
   "id": "1f0ee768",
   "metadata": {},
   "outputs": [
    {
     "name": "stdout",
     "output_type": "stream",
     "text": [
      "LENGTH:\n",
      "4097\n",
      "\n"
     ]
    },
    {
     "name": "stderr",
     "output_type": "stream",
     "text": [
      "C:\\Users\\jacks\\anaconda3\\envs\\UL\\lib\\site-packages\\ipykernel\\ipkernel.py:287: DeprecationWarning: `should_run_async` will not call `transform_cell` automatically in the future. Please pass the result to `transformed_cell` argument and any exception that happen during thetransform in `preprocessing_exc_tuple` in IPython 7.17 and above.\n",
      "  and should_run_async(code)\n"
     ]
    }
   ],
   "source": [
    "# determine the lenght\n",
    "print(\"LENGTH:\\n{length}\\n\".format(length=len(clean_sentences)))"
   ]
  },
  {
   "cell_type": "markdown",
   "id": "05ea78c5",
   "metadata": {},
   "source": [
    "### Part 2: Latent Dirichlet Allocation (LDA) and Health Tweets"
   ]
  },
  {
   "cell_type": "markdown",
   "id": "07c590a8",
   "metadata": {},
   "source": [
    "1. Specify the number_words, number_docs, and number_features variables."
   ]
  },
  {
   "cell_type": "code",
   "execution_count": 16,
   "id": "ca2c27b6",
   "metadata": {},
   "outputs": [
    {
     "name": "stderr",
     "output_type": "stream",
     "text": [
      "C:\\Users\\jacks\\anaconda3\\envs\\UL\\lib\\site-packages\\ipykernel\\ipkernel.py:287: DeprecationWarning: `should_run_async` will not call `transform_cell` automatically in the future. Please pass the result to `transformed_cell` argument and any exception that happen during thetransform in `preprocessing_exc_tuple` in IPython 7.17 and above.\n",
      "  and should_run_async(code)\n"
     ]
    }
   ],
   "source": [
    "number_words = 10\n",
    "number_docs = 10\n",
    "number_features = 1000"
   ]
  },
  {
   "cell_type": "markdown",
   "id": "26bc3e57",
   "metadata": {},
   "source": [
    "2. Describe the following hyperparameters:max_df, min_df, max_features."
   ]
  },
  {
   "cell_type": "markdown",
   "id": "f201fd0f",
   "metadata": {},
   "source": [
    "The hyperparameters max_df, min_df, and max_features help filter the number of words in the corpus to the one that has more influence on the model. Words that appear in too many documents may not be good to specify a topic. The max_df is a float number between 0.0 and 1.0. It represents the percentage of documents so it helps to throw away words that appear in more than the specified proportion of documents. Considering the fact that some words are less likely to be attributable to a topic when they only appear in a few documents. The min_df helps ignore words that have a document frequency lower than the specified number of documents. The max_features help prevents overfit of the model training. It specifies the number of words that are used to fit the model. "
   ]
  },
  {
   "cell_type": "markdown",
   "id": "482d81f1",
   "metadata": {},
   "source": [
    "3. Create a bag-of-words model and assign the feature names to another variable for use later on."
   ]
  },
  {
   "cell_type": "code",
   "execution_count": 17,
   "id": "f605c965",
   "metadata": {},
   "outputs": [
    {
     "name": "stdout",
     "output_type": "stream",
     "text": [
      "  (0, 319)\t1\n",
      "['abortion', 'accord', 'active', 'activity', 'actually', 'addiction', 'adult', 'advice', 'affect', 'aging', 'alcohol', 'allergy', 'already', 'alzheimers', 'america', 'american', 'among', 'animal', 'another', 'answer', 'antibiotic', 'appear', 'approve', 'around', 'athlete', 'attack', 'autism', 'average', 'avoid', 'bacteria', 'balance', 'beach', 'become', 'believe', 'benefit', 'better', 'binge', 'birth', 'black', 'blood', 'boost', 'brain', 'break', 'breast', 'bring', 'calif', 'california', 'calorie', 'campaign', 'cancer', 'cause', 'center', 'challenge', 'chance', 'change', 'check', 'child', 'childhood', 'chocolate', 'choice', 'chronic', 'cigarette', 'claim', 'class', 'clean', 'clinical', 'coffee', 'college', 'coming', 'common', 'company', 'concussion', 'confirm', 'consider', 'consumer', 'continue', 'control', 'costs', 'could', 'count', 'country', 'county', 'court', 'coverage', 'create', 'crunch', 'daily', 'dangerous', 'deadly', 'death', 'debate', 'decision', 'decline', 'delay', 'dementia', 'depress', 'depression', 'develop', 'device', 'diabetes', 'diagnose', 'diagnosis', 'disease', 'disorder', 'doctor', 'double', 'drink', 'drinking', 'drive', 'driver', 'driving', 'dying', 'early', 'eating', 'ebola', 'ecigarette', 'ecigarettes', 'effect', 'effective', 'effects', 'effort', 'emergency', 'enough', 'epidemic', 'especially', 'every', 'evidence', 'exercise', 'expect', 'experience', 'experimental', 'expert', 'explain', 'exposure', 'facebook', 'family', 'federal', 'female', 'fewer', 'fight', 'figure', 'finding', 'first', 'fitness', 'focus', 'follow', 'found', 'friend', 'fruit', 'future', 'genetic', 'genome', 'getting', 'giving', 'gluten', 'glutenfree', 'going', 'great', 'greater', 'group', 'guideline', 'habit', 'happen', 'happy', 'hazardous', 'health', 'healthcare', 'healthful', 'healthier', 'healthtips', 'healthy', 'heart', 'hepatitis', 'higher', 'hormone', 'hospital', 'hours', 'human', 'humans', 'icymi', 'illness', 'implant', 'improve', 'include', 'increase', 'infant', 'infection', 'injury', 'inspire', 'instead', 'insurance', 'issue', 'juice', 'keeping', 'kidney', 'komen', 'label', 'large', 'later', 'latest', 'latfit', 'leading', 'learn', 'least', 'level', 'light', 'likely', 'limit', 'links', 'little', 'liver', 'living', 'longer', 'looking', 'lower', 'lunch', 'making', 'mammogram', 'marathon', 'marijuana', 'market', 'marriage', 'matter', 'maybe', 'means', 'measles', 'measure', 'medical', 'medication', 'medicine', 'meditation', 'memory', 'mental', 'middle', 'might', 'million', 'minutes', 'money', 'month', 'morning', 'mother', 'mouse', 'muscle', 'nation', 'national', 'natural', 'nearly', 'night', 'nobel', 'number', 'obama', 'obamacare', 'obese', 'obesity', 'offer', 'official', 'often', 'older', 'online', 'option', 'order', 'others', 'outbreak', 'overweight', 'panel', 'parent', 'parenthood', 'patent', 'patient', 'pediatrician', 'pedometerwars', 'people', 'phone', 'player', 'point', 'pollution', 'possible', 'pound', 'power', 'predict', 'pregnancy', 'pregnant', 'premature', 'prescription', 'pressure', 'prevent', 'prize', 'probably', 'problem', 'produce', 'product', 'program', 'promise', 'prompt', 'prostate', 'protect', 'protein', 'public', 'question', 'raise', 'rates', 'reach', 'really', 'reason', 'recall', 'record', 'reduce', 'reform', 'regular', 'remain', 'report', 'research', 'researcher', 'restaurant', 'result', 'reveal', 'reverse', 'right', 'ruling', 'running', 'safety', 'school', 'science', 'scientist', 'screening', 'season', 'second', 'serious', 'sexual', 'shape', 'share', 'shopping', 'simple', 'since', 'single', 'sitting', 'sleep', 'small', 'smoke', 'smoker', 'smoking', 'snack', 'something', 'sound', 'spend', 'sport', 'spread', 'start', 'state', 'steps', 'still', 'story', 'strain', 'stress', 'stretch', 'strike', 'stroke', 'strong', 'student', 'study', 'success', 'suffer', 'sugar', 'suggest', 'suicide', 'summer', 'supplement', 'support', 'supreme', 'surgery', 'surprise', 'survey', 'survivor', 'symptom', 'system', 'taking', 'talks', 'teens', 'thank', 'thanks', 'thats', 'therapy', 'there', 'theyre', 'thing', 'think', 'though', 'thought', 'three', 'times', 'tobacco', 'today', 'total', 'track', 'transplant', 'treat', 'treatment', 'trial', 'trouble', 'tumor', 'using', 'vaccination', 'vaccine', 'vegetable', 'video', 'violence', 'virus', 'vitamin', 'walking', 'warning', 'watch', 'water', 'weekend', 'weigh', 'weight', 'weightloss', 'whats', 'whether', 'white', 'without', 'woman', 'worker', 'working', 'workout', 'works', 'world', 'worldwide', 'worry', 'worse', 'worth', 'would', 'write', 'years', 'young']\n"
     ]
    },
    {
     "name": "stderr",
     "output_type": "stream",
     "text": [
      "C:\\Users\\jacks\\anaconda3\\envs\\UL\\lib\\site-packages\\ipykernel\\ipkernel.py:287: DeprecationWarning: `should_run_async` will not call `transform_cell` automatically in the future. Please pass the result to `transformed_cell` argument and any exception that happen during thetransform in `preprocessing_exc_tuple` in IPython 7.17 and above.\n",
      "  and should_run_async(code)\n"
     ]
    }
   ],
   "source": [
    "vectorizer1 = sklearn.feature_extraction.text.CountVectorizer(analyzer=\"word\", \\\n",
    "                                                                max_df=0.95, \\\n",
    "                                                                min_df=10, \\\n",
    "                                                                max_features=number_features)\n",
    "\n",
    "clean_vec1 = vectorizer1.fit_transform(clean_sentences)\n",
    "print(clean_vec1[0])\n",
    "feature_names_vec1 = vectorizer1.get_feature_names()\n",
    "print(feature_names_vec1)"
   ]
  },
  {
   "cell_type": "markdown",
   "id": "89d5fd6f",
   "metadata": {},
   "source": [
    "4. Identify the optimal number of topics by trying different numbers and outputting the perplexity for each."
   ]
  },
  {
   "cell_type": "code",
   "execution_count": 18,
   "id": "bba30842",
   "metadata": {},
   "outputs": [
    {
     "name": "stderr",
     "output_type": "stream",
     "text": [
      "C:\\Users\\jacks\\anaconda3\\envs\\UL\\lib\\site-packages\\ipykernel\\ipkernel.py:287: DeprecationWarning: `should_run_async` will not call `transform_cell` automatically in the future. Please pass the result to `transformed_cell` argument and any exception that happen during thetransform in `preprocessing_exc_tuple` in IPython 7.17 and above.\n",
      "  and should_run_async(code)\n"
     ]
    }
   ],
   "source": [
    "# define a function that fits an LDA model on various numbers of topics and computes the perplexity score\n",
    "\n",
    "def perplexity_by_ntopic(data, ntopics):\n",
    "    output_dict = {\"Number Of Topics\": [], \"Perplexity Score\": []}\n",
    "    for t in ntopics:\n",
    "        lda = sklearn.decomposition.LatentDirichletAllocation(n_components=t, learning_method=\"online\", random_state=0)\n",
    "        lda.fit(data)\n",
    "        output_dict[\"Number Of Topics\"].append(t)\n",
    "        output_dict[\"Perplexity Score\"].append(lda.perplexity(data))\n",
    "        output_df = pandas.DataFrame(output_dict)\n",
    "        index_min_perplexity = output_df[\"Perplexity Score\"].idxmin()\n",
    "        output_num_topics = output_df.loc[\n",
    "            index_min_perplexity, # index\n",
    "            \"Number Of Topics\" # column\n",
    "            ]\n",
    "    return (output_df, output_num_topics)"
   ]
  },
  {
   "cell_type": "code",
   "execution_count": 19,
   "id": "723bbf63",
   "metadata": {},
   "outputs": [
    {
     "name": "stderr",
     "output_type": "stream",
     "text": [
      "C:\\Users\\jacks\\anaconda3\\envs\\UL\\lib\\site-packages\\ipykernel\\ipkernel.py:287: DeprecationWarning: `should_run_async` will not call `transform_cell` automatically in the future. Please pass the result to `transformed_cell` argument and any exception that happen during thetransform in `preprocessing_exc_tuple` in IPython 7.17 and above.\n",
      "  and should_run_async(code)\n"
     ]
    },
    {
     "name": "stdout",
     "output_type": "stream",
     "text": [
      "   Number Of Topics  Perplexity Score\n",
      "0                 2        349.169657\n",
      "1                 4        409.690522\n",
      "2                 6        445.692225\n",
      "3                 8        467.310653\n",
      "4                10        477.820276\n",
      "5                12        499.970003\n",
      "6                14        512.861434\n",
      "7                16        523.650366\n",
      "8                18        539.307724\n",
      "9                20        541.267599\n"
     ]
    }
   ],
   "source": [
    "# execute function on vector of numbers of topics (2 to 20)\n",
    "\n",
    "df_perplexity, optimal_num_topics = perplexity_by_ntopic(clean_vec1, ntopics=[i for i in range(1, 21) if i % 2 == 0])\n",
    "print(df_perplexity)"
   ]
  },
  {
   "cell_type": "code",
   "execution_count": 20,
   "id": "62a77456",
   "metadata": {},
   "outputs": [
    {
     "name": "stderr",
     "output_type": "stream",
     "text": [
      "C:\\Users\\jacks\\anaconda3\\envs\\UL\\lib\\site-packages\\ipykernel\\ipkernel.py:287: DeprecationWarning: `should_run_async` will not call `transform_cell` automatically in the future. Please pass the result to `transformed_cell` argument and any exception that happen during thetransform in `preprocessing_exc_tuple` in IPython 7.17 and above.\n",
      "  and should_run_async(code)\n"
     ]
    },
    {
     "data": {
      "text/plain": [
       "<matplotlib.axes._subplots.AxesSubplot at 0x270fc01ec48>"
      ]
     },
     "execution_count": 20,
     "metadata": {},
     "output_type": "execute_result"
    },
    {
     "data": {
      "image/png": "[encoded data removed]",
      "text/plain": [
       "<Figure size 640x480 with 1 Axes>"
      ]
     },
     "metadata": {},
     "output_type": "display_data"
    }
   ],
   "source": [
    "# plot the perplexity scores \n",
    "df_perplexity.plot.line(\"Number Of Topics\", \"Perplexity Score\")"
   ]
  },
  {
   "cell_type": "markdown",
   "id": "74e3ec4c",
   "metadata": {},
   "source": [
    "As the DataFrame and the above plot shows, the optimal number of topics using perplexity is two. So we can set the n_components of LDA model equal to two."
   ]
  },
  {
   "cell_type": "markdown",
   "id": "095bf2b7",
   "metadata": {},
   "source": [
    "5. Fit the LDA model using the optimal number of topics."
   ]
  },
  {
   "cell_type": "code",
   "execution_count": 21,
   "id": "eedd2efb",
   "metadata": {},
   "outputs": [
    {
     "name": "stderr",
     "output_type": "stream",
     "text": [
      "C:\\Users\\jacks\\anaconda3\\envs\\UL\\lib\\site-packages\\ipykernel\\ipkernel.py:287: DeprecationWarning: `should_run_async` will not call `transform_cell` automatically in the future. Please pass the result to `transformed_cell` argument and any exception that happen during thetransform in `preprocessing_exc_tuple` in IPython 7.17 and above.\n",
      "  and should_run_async(code)\n"
     ]
    },
    {
     "data": {
      "text/plain": [
       "LatentDirichletAllocation(batch_size=128, doc_topic_prior=None,\n",
       "                          evaluate_every=-1, learning_decay=0.7,\n",
       "                          learning_method='online', learning_offset=10.0,\n",
       "                          max_doc_update_iter=100, max_iter=10,\n",
       "                          mean_change_tol=0.001, n_components=2, n_jobs=None,\n",
       "                          perp_tol=0.1, random_state=0, topic_word_prior=None,\n",
       "                          total_samples=1000000.0, verbose=0)"
      ]
     },
     "execution_count": 21,
     "metadata": {},
     "output_type": "execute_result"
    }
   ],
   "source": [
    "# fit an LDA model using the optimal number of topics\n",
    "\n",
    "lda = sklearn.decomposition.LatentDirichletAllocation(n_components=optimal_num_topics, learning_method=\"online\", random_state=0)\n",
    "lda.fit(clean_vec1)"
   ]
  },
  {
   "cell_type": "markdown",
   "id": "55518444",
   "metadata": {},
   "source": [
    "6. Create and print the word-topic table."
   ]
  },
  {
   "cell_type": "code",
   "execution_count": 22,
   "id": "633e68dc",
   "metadata": {},
   "outputs": [
    {
     "name": "stderr",
     "output_type": "stream",
     "text": [
      "C:\\Users\\jacks\\anaconda3\\envs\\UL\\lib\\site-packages\\ipykernel\\ipkernel.py:287: DeprecationWarning: `should_run_async` will not call `transform_cell` automatically in the future. Please pass the result to `transformed_cell` argument and any exception that happen during thetransform in `preprocessing_exc_tuple` in IPython 7.17 and above.\n",
      "  and should_run_async(code)\n"
     ]
    }
   ],
   "source": [
    "# define function to reformat output matrices into easily readable tables\n",
    "\n",
    "def get_topics(mod, vec, names, docs, ndocs, nwords):\n",
    "    # word to topic matrix\n",
    "    W = mod.components_\n",
    "    W_norm = W / W.sum(axis=1)[:, numpy.newaxis]\n",
    "    # topic to document matrix\n",
    "    H = mod.transform(vec)\n",
    "    \n",
    "    W_dict = {}\n",
    "    H_dict = {}\n",
    "    \n",
    "    for tpc_idx, tpc_val in enumerate(W_norm):\n",
    "        topic = \"Topic{}\".format(tpc_idx)\n",
    "        \n",
    "        # formatting w\n",
    "        W_indices = tpc_val.argsort()[::-1][:nwords]\n",
    "        W_names_values = [\n",
    "            (round(tpc_val[j], 4), names[j]) \n",
    "            for j in W_indices\n",
    "        ]\n",
    "        W_dict[topic] = W_names_values\n",
    "        \n",
    "        # formatting h\n",
    "        H_indices = H[:, tpc_idx].argsort()[::-1][:ndocs]\n",
    "        H_names_values = [\n",
    "            (round(H[:, tpc_idx][j], 4), docs[j]) \n",
    "            for j in H_indices\n",
    "        ]\n",
    "        H_dict[topic] = H_names_values\n",
    "        \n",
    "    W_df = pandas.DataFrame(\n",
    "        W_dict, \n",
    "        index=[\"Word\" + str(i) for i in range(nwords)]\n",
    "    )\n",
    "    H_df = pandas.DataFrame(\n",
    "        H_dict,\n",
    "        index=[\"Doc\" + str(i) for i in range(ndocs)]\n",
    "    )\n",
    "        \n",
    "    return (W_df, H_df)"
   ]
  },
  {
   "cell_type": "code",
   "execution_count": 23,
   "id": "2d42d62d",
   "metadata": {},
   "outputs": [
    {
     "name": "stderr",
     "output_type": "stream",
     "text": [
      "C:\\Users\\jacks\\anaconda3\\envs\\UL\\lib\\site-packages\\ipykernel\\ipkernel.py:287: DeprecationWarning: `should_run_async` will not call `transform_cell` automatically in the future. Please pass the result to `transformed_cell` argument and any exception that happen during thetransform in `preprocessing_exc_tuple` in IPython 7.17 and above.\n",
      "  and should_run_async(code)\n"
     ]
    }
   ],
   "source": [
    "# run function to get a readable table\n",
    "\n",
    "W_df, H_df = get_topics(\n",
    "    mod=lda,\n",
    "    vec=clean_vec1,\n",
    "    names=feature_names_vec1,\n",
    "    docs=raw,\n",
    "    ndocs=number_docs, \n",
    "    nwords=number_words\n",
    ")"
   ]
  },
  {
   "cell_type": "code",
   "execution_count": 24,
   "id": "65369641",
   "metadata": {},
   "outputs": [
    {
     "name": "stdout",
     "output_type": "stream",
     "text": [
      "                  Topic0                Topic1\n",
      "Word0    (0.0752, study)      (0.0438, latfit)\n",
      "Word1   (0.0278, cancer)      (0.0351, health)\n",
      "Word2  (0.0274, company)      (0.0163, report)\n",
      "Word3   (0.0266, coming)  (0.0153, healthcare)\n",
      "Word4   (0.0218, people)      (0.0152, weight)\n",
      "Word5  (0.0199, patient)  (0.0147, california)\n",
      "Word6    (0.0182, could)    (0.0144, american)\n",
      "Word7    (0.0157, death)      (0.0124, expert)\n",
      "Word8  (0.0155, obesity)      (0.0109, better)\n",
      "Word9    (0.0151, heart)       (0.0108, years)\n"
     ]
    },
    {
     "name": "stderr",
     "output_type": "stream",
     "text": [
      "C:\\Users\\jacks\\anaconda3\\envs\\UL\\lib\\site-packages\\ipykernel\\ipkernel.py:287: DeprecationWarning: `should_run_async` will not call `transform_cell` automatically in the future. Please pass the result to `transformed_cell` argument and any exception that happen during thetransform in `preprocessing_exc_tuple` in IPython 7.17 and above.\n",
      "  and should_run_async(code)\n"
     ]
    }
   ],
   "source": [
    "# print word-topic table\n",
    "print(W_df)"
   ]
  },
  {
   "cell_type": "markdown",
   "id": "7cc9b18a",
   "metadata": {},
   "source": [
    "7. Print the document-topic table."
   ]
  },
  {
   "cell_type": "code",
   "execution_count": 25,
   "id": "ca6203e8",
   "metadata": {},
   "outputs": [
    {
     "name": "stdout",
     "output_type": "stream",
     "text": [
      "                                                 Topic0  \\\n",
      "Doc0  (0.9496, If you have 2 parents with Alzheimer'...   \n",
      "Doc1  (0.9447, One risk of FDA's trans fat ban: \"We ...   \n",
      "Doc2  (0.9443, Does your dog know how you're feeling...   \n",
      "Doc3  (0.944, Eating disorders can be hard to spot i...   \n",
      "Doc4  (0.9439, #LATFit done and DONE! RT @brigettebr...   \n",
      "Doc5  (0.9436, The Supreme Court ruled this week tha...   \n",
      "Doc6  (0.9432, Does laziness make people fat? New re...   \n",
      "Doc7  (0.9419, Troubling link between bisphenols pre...   \n",
      "Doc8  (0.9384, RT @annagorman: A majority of Califor...   \n",
      "Doc9  (0.9376, Supplements to boost \"low T\" increase...   \n",
      "\n",
      "                                                 Topic1  \n",
      "Doc0  (0.9373, Drop-jump test, triple-hop stability ...  \n",
      "Doc1  (0.9372, RT @latimesscience: What happens to y...  \n",
      "Doc2  (0.9336, Hey #LATFit nation: @GetHealthQuote a...  \n",
      "Doc3  (0.932, Workouts without pain: Three trainers ...  \n",
      "Doc4  (0.9285, Using a hands-free phone doesn't make...  \n",
      "Doc5  (0.9284, Geneticist on DNA privacy: Make it so...  \n",
      "Doc6  (0.9284, Range of clues, not just DNA, indicat...  \n",
      "Doc7  (0.9284, RT @annagorman: Hospitals from throug...  \n",
      "Doc8  (0.9283, .@WHO estimates that a woman dies fro...  \n",
      "Doc9  (0.9283, RT @kurtissl: #10000steps #LATFIT - J...  \n"
     ]
    },
    {
     "name": "stderr",
     "output_type": "stream",
     "text": [
      "C:\\Users\\jacks\\anaconda3\\envs\\UL\\lib\\site-packages\\ipykernel\\ipkernel.py:287: DeprecationWarning: `should_run_async` will not call `transform_cell` automatically in the future. Please pass the result to `transformed_cell` argument and any exception that happen during thetransform in `preprocessing_exc_tuple` in IPython 7.17 and above.\n",
      "  and should_run_async(code)\n"
     ]
    }
   ],
   "source": [
    "# print document-topic table\n",
    "\n",
    "print(H_df)"
   ]
  },
  {
   "cell_type": "markdown",
   "id": "4b2eb61f",
   "metadata": {},
   "source": [
    "8. Create a biplot visualization. Discuss the results of the model. Do these word groupings make sense?"
   ]
  },
  {
   "cell_type": "code",
   "execution_count": 26,
   "id": "2d2483c7",
   "metadata": {},
   "outputs": [
    {
     "name": "stderr",
     "output_type": "stream",
     "text": [
      "C:\\Users\\jacks\\anaconda3\\envs\\UL\\lib\\site-packages\\ipykernel\\ipkernel.py:287: DeprecationWarning: `should_run_async` will not call `transform_cell` automatically in the future. Please pass the result to `transformed_cell` argument and any exception that happen during thetransform in `preprocessing_exc_tuple` in IPython 7.17 and above.\n",
      "  and should_run_async(code)\n"
     ]
    },
    {
     "data": {
      "text/html": [
       "\n",
       "<link rel=\"stylesheet\" type=\"text/css\" href=\"https://cdn.rawgit.com/bmabey/pyLDAvis/files/ldavis.v1.0.0.css\">\n",
       "\n",
       "\n",
       "<div id=\"ldavis_el3288026842373966802918066015\"></div>\n",
       "<script type=\"text/javascript\">\n",
       "\n",
       "var ldavis_el3288026842373966802918066015_data = {\"mdsDat\": {\"x\": [0.2528960847173092, -0.2528960847173092], \"y\": [0.0, 0.0], \"topics\": [1, 2], \"cluster\": [1, 1], \"Freq\": [51.966480141562485, 48.033519858437515]}, \"tinfo\": {\"Term\": [\"study\", \"latfit\", \"health\", \"cancer\", \"company\", \"coming\", \"people\", \"patient\", \"could\", \"healthcare\", \"company\", \"cancer\", \"coming\", \"study\", \"patient\", \"people\", \"heart\", \"death\", \"obesity\", \"disease\", \"could\", \"latfit\", \"health\", \"american\", \"healthcare\", \"weight\", \"today\", \"workout\", \"eating\", \"better\", \"change\", \"expert\", \"exercise\", \"report\", \"california\", \"might\", \"years\"], \"Freq\": [459.0, 246.0, 198.0, 169.0, 166.0, 162.0, 133.0, 121.0, 112.0, 87.0, 166.38341509508018, 169.1915926738635, 162.02360008831613, 457.69317031803564, 120.7951722486747, 132.71304071364486, 91.76674662005722, 95.79038953277372, 94.23300782423466, 81.98484490052529, 110.86315443287008, 246.10713634590502, 197.49479607692277, 80.85419549723504, 86.26941009065057, 85.2937735847502, 55.368473583073424, 44.37396286962981, 47.20298028827013, 61.19291434603693, 57.570107312708316, 69.68821338553619, 57.49923721173285, 91.69283553500478, 82.66120755411235, 59.217365844496356, 60.57665617620016], \"Total\": [459.0, 246.0, 198.0, 169.0, 166.0, 162.0, 133.0, 121.0, 112.0, 87.0, 166.925469586088, 169.76553548349776, 162.5746761833641, 459.4697830082121, 121.38256384411713, 133.49802726363527, 92.35574232164542, 96.41905409367176, 94.93814548640184, 82.762506704408, 112.32923143424499, 246.60781863613147, 198.26614775372718, 81.43783906531853, 87.14383772501574, 86.16878304318377, 55.95323494846644, 44.87965444097164, 47.78682265150861, 61.95340082663122, 58.28954549693198, 70.60706888443036, 58.24683989489056, 94.54499963205878, 84.98109809206844, 60.56904841650941, 66.34216820652576], \"Category\": [\"Default\", \"Default\", \"Default\", \"Default\", \"Default\", \"Default\", \"Default\", \"Default\", \"Default\", \"Default\", \"Topic1\", \"Topic1\", \"Topic1\", \"Topic1\", \"Topic1\", \"Topic1\", \"Topic1\", \"Topic1\", \"Topic1\", \"Topic1\", \"Topic1\", \"Topic2\", \"Topic2\", \"Topic2\", \"Topic2\", \"Topic2\", \"Topic2\", \"Topic2\", \"Topic2\", \"Topic2\", \"Topic2\", \"Topic2\", \"Topic2\", \"Topic2\", \"Topic2\", \"Topic2\", \"Topic2\"], \"logprob\": [10.0, 9.0, 8.0, 7.0, 6.0, 5.0, 4.0, 3.0, 2.0, 1.0, -3.599, -3.5823, -3.6255, -2.5871, -3.9192, -3.8251, -4.194, -4.1511, -4.1675, -4.3068, -4.005, -3.1288, -3.3489, -4.2419, -4.1771, -4.1885, -4.6206, -4.8419, -4.7801, -4.5206, -4.5816, -4.3906, -4.5828, -4.1161, -4.2198, -4.5534, -4.5307], \"loglift\": [10.0, 9.0, 8.0, 7.0, 6.0, 5.0, 4.0, 3.0, 2.0, 1.0, 0.6513, 0.6512, 0.6512, 0.6507, 0.6497, 0.6487, 0.6482, 0.648, 0.6471, 0.6451, 0.6414, 0.7312, 0.7294, 0.7261, 0.7232, 0.7231, 0.7228, 0.7219, 0.721, 0.7209, 0.7209, 0.7202, 0.7204, 0.7026, 0.7056, 0.7107, 0.6424]}, \"token.table\": {\"Topic\": [1, 2, 1, 2, 1, 2, 1, 2, 1, 2, 1, 2, 1, 2, 1, 2, 1, 2, 1, 2, 1, 2, 1, 2, 1, 2, 1, 2, 1, 2, 1, 2, 1, 2, 1, 2, 1, 2, 1, 2, 1, 2, 1, 2, 1, 2, 1, 2, 1, 2, 1, 2, 1, 2], \"Freq\": [0.012279304208918583, 0.9946236409224052, 0.016141163949956096, 0.9846110009473219, 0.023534645290570404, 0.9766877795586718, 0.9954906307613174, 0.005890477105096553, 0.017155735071782884, 0.9950326341634073, 0.9964651556019959, 0.006151019479024666, 0.9944557916273482, 0.005990697539923785, 0.9881666471204952, 0.008902402226310767, 0.9956538248833613, 0.01037139400920168, 0.9907868099363961, 0.0120827659748341, 0.020926270978353704, 0.9835347359826241, 0.017168313367807622, 0.9785938619650345, 0.014162887877937545, 0.9914021514556282, 0.005043725372836378, 0.9936138984487665, 0.01147528070952672, 0.9868741410192979, 0.9961481299083008, 0.01082769706422066, 0.004055021473084334, 0.9975352823787461, 0.016510082726137534, 0.9740948808421145, 0.9901183504102025, 0.010533173940534069, 0.9968482800823978, 0.008238415537871056, 0.9962694035721461, 0.0074907473952792935, 0.031730921906765186, 0.973081605140799, 0.9968011323865755, 0.004352843372867142, 0.017872067645794052, 0.9829637205186729, 0.011605130822131337, 0.9864361198811636, 0.022281811490221227, 0.980399705569734, 0.09044021566075089, 0.9194755258843007], \"Term\": [\"american\", \"american\", \"better\", \"better\", \"california\", \"california\", \"cancer\", \"cancer\", \"change\", \"change\", \"coming\", \"coming\", \"company\", \"company\", \"could\", \"could\", \"death\", \"death\", \"disease\", \"disease\", \"eating\", \"eating\", \"exercise\", \"exercise\", \"expert\", \"expert\", \"health\", \"health\", \"healthcare\", \"healthcare\", \"heart\", \"heart\", \"latfit\", \"latfit\", \"might\", \"might\", \"obesity\", \"obesity\", \"patient\", \"patient\", \"people\", \"people\", \"report\", \"report\", \"study\", \"study\", \"today\", \"today\", \"weight\", \"weight\", \"workout\", \"workout\", \"years\", \"years\"]}, \"R\": 10, \"lambda.step\": 0.01, \"plot.opts\": {\"xlab\": \"PC1\", \"ylab\": \"PC2\"}, \"topic.order\": [1, 2]};\n",
       "\n",
       "function LDAvis_load_lib(url, callback){\n",
       "  var s = document.createElement('script');\n",
       "  s.src = url;\n",
       "  s.async = true;\n",
       "  s.onreadystatechange = s.onload = callback;\n",
       "  s.onerror = function(){console.warn(\"failed to load library \" + url);};\n",
       "  document.getElementsByTagName(\"head\")[0].appendChild(s);\n",
       "}\n",
       "\n",
       "if(typeof(LDAvis) !== \"undefined\"){\n",
       "   // already loaded: just create the visualization\n",
       "   !function(LDAvis){\n",
       "       new LDAvis(\"#\" + \"ldavis_el3288026842373966802918066015\", ldavis_el3288026842373966802918066015_data);\n",
       "   }(LDAvis);\n",
       "}else if(typeof define === \"function\" && define.amd){\n",
       "   // require.js is available: use it to load d3/LDAvis\n",
       "   require.config({paths: {d3: \"https://cdnjs.cloudflare.com/ajax/libs/d3/3.5.5/d3.min\"}});\n",
       "   require([\"d3\"], function(d3){\n",
       "      window.d3 = d3;\n",
       "      LDAvis_load_lib(\"https://cdn.rawgit.com/bmabey/pyLDAvis/files/ldavis.v1.0.0.js\", function(){\n",
       "        new LDAvis(\"#\" + \"ldavis_el3288026842373966802918066015\", ldavis_el3288026842373966802918066015_data);\n",
       "      });\n",
       "    });\n",
       "}else{\n",
       "    // require.js not available: dynamically load d3 & LDAvis\n",
       "    LDAvis_load_lib(\"https://cdnjs.cloudflare.com/ajax/libs/d3/3.5.5/d3.min.js\", function(){\n",
       "         LDAvis_load_lib(\"https://cdn.rawgit.com/bmabey/pyLDAvis/files/ldavis.v1.0.0.js\", function(){\n",
       "                 new LDAvis(\"#\" + \"ldavis_el3288026842373966802918066015\", ldavis_el3288026842373966802918066015_data);\n",
       "            })\n",
       "         });\n",
       "}\n",
       "</script>"
      ],
      "text/plain": [
       "<IPython.core.display.HTML object>"
      ]
     },
     "execution_count": 26,
     "metadata": {},
     "output_type": "execute_result"
    }
   ],
   "source": [
    "# run and display pyLDAvis\n",
    "lda_plot = pyLDAvis.sklearn.prepare(lda, clean_vec1, vectorizer1, R=10)\n",
    "pyLDAvis.display(lda_plot)"
   ]
  },
  {
   "cell_type": "markdown",
   "id": "13c7d66b",
   "metadata": {},
   "source": [
    "**Comments:**<br>\n",
    "When we click on each topic circle or click the Next Topic button, we can view the top words related to that topic. As we can see, the first topic is related to more on the study topic. As we can see some words such as death, heart, cancer, people, obesity and so on are related to health study topics and it makes sense. However, there are words such as coming, could, and company are not making sense for this health study topic. For the second, the first word is the latest. But the words below are health, report, healthcare, weight, and so on. The second topic is more likely to be a health topic. It does not really make sense when 'latfit' is the top one word of the second topic. But when doing some research online, we found that latfit is a word related to exercise so it makes sense to have latfit topic for the second topic."
   ]
  },
  {
   "cell_type": "markdown",
   "id": "b5b2da59",
   "metadata": {},
   "source": [
    "### Part 3: Non-negative Matrix Factorization (NMF)"
   ]
  },
  {
   "cell_type": "markdown",
   "id": "d50524bc",
   "metadata": {},
   "source": [
    "1. Create the appropriate bag-of-words model and output the feature names as another variable."
   ]
  },
  {
   "cell_type": "code",
   "execution_count": 27,
   "id": "c0d5584a",
   "metadata": {},
   "outputs": [
    {
     "name": "stdout",
     "output_type": "stream",
     "text": [
      "  (0, 319)\t1.0\n"
     ]
    },
    {
     "name": "stderr",
     "output_type": "stream",
     "text": [
      "C:\\Users\\jacks\\anaconda3\\envs\\UL\\lib\\site-packages\\ipykernel\\ipkernel.py:287: DeprecationWarning: `should_run_async` will not call `transform_cell` automatically in the future. Please pass the result to `transformed_cell` argument and any exception that happen during thetransform in `preprocessing_exc_tuple` in IPython 7.17 and above.\n",
      "  and should_run_async(code)\n"
     ]
    }
   ],
   "source": [
    "# create a bag-of-words model using TF-IDF\n",
    "vectorizer2 = sklearn.feature_extraction.text.TfidfVectorizer(analyzer=\"word\", max_df=0.95, min_df=10, max_features=number_features, smooth_idf=False)\n",
    "clean_vec2 = vectorizer2.fit_transform(clean_sentences)\n",
    "print(clean_vec2[0])"
   ]
  },
  {
   "cell_type": "code",
   "execution_count": 28,
   "id": "9bb6115e",
   "metadata": {},
   "outputs": [
    {
     "name": "stderr",
     "output_type": "stream",
     "text": [
      "C:\\Users\\jacks\\anaconda3\\envs\\UL\\lib\\site-packages\\ipykernel\\ipkernel.py:287: DeprecationWarning: `should_run_async` will not call `transform_cell` automatically in the future. Please pass the result to `transformed_cell` argument and any exception that happen during thetransform in `preprocessing_exc_tuple` in IPython 7.17 and above.\n",
      "  and should_run_async(code)\n"
     ]
    },
    {
     "data": {
      "text/plain": [
       "['abortion',\n",
       " 'accord',\n",
       " 'active',\n",
       " 'activity',\n",
       " 'actually',\n",
       " 'addiction',\n",
       " 'adult',\n",
       " 'advice',\n",
       " 'affect',\n",
       " 'aging',\n",
       " 'alcohol',\n",
       " 'allergy',\n",
       " 'already',\n",
       " 'alzheimers',\n",
       " 'america',\n",
       " 'american',\n",
       " 'among',\n",
       " 'animal',\n",
       " 'another',\n",
       " 'answer',\n",
       " 'antibiotic',\n",
       " 'appear',\n",
       " 'approve',\n",
       " 'around',\n",
       " 'athlete',\n",
       " 'attack',\n",
       " 'autism',\n",
       " 'average',\n",
       " 'avoid',\n",
       " 'bacteria',\n",
       " 'balance',\n",
       " 'beach',\n",
       " 'become',\n",
       " 'believe',\n",
       " 'benefit',\n",
       " 'better',\n",
       " 'binge',\n",
       " 'birth',\n",
       " 'black',\n",
       " 'blood',\n",
       " 'boost',\n",
       " 'brain',\n",
       " 'break',\n",
       " 'breast',\n",
       " 'bring',\n",
       " 'calif',\n",
       " 'california',\n",
       " 'calorie',\n",
       " 'campaign',\n",
       " 'cancer',\n",
       " 'cause',\n",
       " 'center',\n",
       " 'challenge',\n",
       " 'chance',\n",
       " 'change',\n",
       " 'check',\n",
       " 'child',\n",
       " 'childhood',\n",
       " 'chocolate',\n",
       " 'choice',\n",
       " 'chronic',\n",
       " 'cigarette',\n",
       " 'claim',\n",
       " 'class',\n",
       " 'clean',\n",
       " 'clinical',\n",
       " 'coffee',\n",
       " 'college',\n",
       " 'coming',\n",
       " 'common',\n",
       " 'company',\n",
       " 'concussion',\n",
       " 'confirm',\n",
       " 'consider',\n",
       " 'consumer',\n",
       " 'continue',\n",
       " 'control',\n",
       " 'costs',\n",
       " 'could',\n",
       " 'count',\n",
       " 'country',\n",
       " 'county',\n",
       " 'court',\n",
       " 'coverage',\n",
       " 'create',\n",
       " 'crunch',\n",
       " 'daily',\n",
       " 'dangerous',\n",
       " 'deadly',\n",
       " 'death',\n",
       " 'debate',\n",
       " 'decision',\n",
       " 'decline',\n",
       " 'delay',\n",
       " 'dementia',\n",
       " 'depress',\n",
       " 'depression',\n",
       " 'develop',\n",
       " 'device',\n",
       " 'diabetes',\n",
       " 'diagnose',\n",
       " 'diagnosis',\n",
       " 'disease',\n",
       " 'disorder',\n",
       " 'doctor',\n",
       " 'double',\n",
       " 'drink',\n",
       " 'drinking',\n",
       " 'drive',\n",
       " 'driver',\n",
       " 'driving',\n",
       " 'dying',\n",
       " 'early',\n",
       " 'eating',\n",
       " 'ebola',\n",
       " 'ecigarette',\n",
       " 'ecigarettes',\n",
       " 'effect',\n",
       " 'effective',\n",
       " 'effects',\n",
       " 'effort',\n",
       " 'emergency',\n",
       " 'enough',\n",
       " 'epidemic',\n",
       " 'especially',\n",
       " 'every',\n",
       " 'evidence',\n",
       " 'exercise',\n",
       " 'expect',\n",
       " 'experience',\n",
       " 'experimental',\n",
       " 'expert',\n",
       " 'explain',\n",
       " 'exposure',\n",
       " 'facebook',\n",
       " 'family',\n",
       " 'federal',\n",
       " 'female',\n",
       " 'fewer',\n",
       " 'fight',\n",
       " 'figure',\n",
       " 'finding',\n",
       " 'first',\n",
       " 'fitness',\n",
       " 'focus',\n",
       " 'follow',\n",
       " 'found',\n",
       " 'friend',\n",
       " 'fruit',\n",
       " 'future',\n",
       " 'genetic',\n",
       " 'genome',\n",
       " 'getting',\n",
       " 'giving',\n",
       " 'gluten',\n",
       " 'glutenfree',\n",
       " 'going',\n",
       " 'great',\n",
       " 'greater',\n",
       " 'group',\n",
       " 'guideline',\n",
       " 'habit',\n",
       " 'happen',\n",
       " 'happy',\n",
       " 'hazardous',\n",
       " 'health',\n",
       " 'healthcare',\n",
       " 'healthful',\n",
       " 'healthier',\n",
       " 'healthtips',\n",
       " 'healthy',\n",
       " 'heart',\n",
       " 'hepatitis',\n",
       " 'higher',\n",
       " 'hormone',\n",
       " 'hospital',\n",
       " 'hours',\n",
       " 'human',\n",
       " 'humans',\n",
       " 'icymi',\n",
       " 'illness',\n",
       " 'implant',\n",
       " 'improve',\n",
       " 'include',\n",
       " 'increase',\n",
       " 'infant',\n",
       " 'infection',\n",
       " 'injury',\n",
       " 'inspire',\n",
       " 'instead',\n",
       " 'insurance',\n",
       " 'issue',\n",
       " 'juice',\n",
       " 'keeping',\n",
       " 'kidney',\n",
       " 'komen',\n",
       " 'label',\n",
       " 'large',\n",
       " 'later',\n",
       " 'latest',\n",
       " 'latfit',\n",
       " 'leading',\n",
       " 'learn',\n",
       " 'least',\n",
       " 'level',\n",
       " 'light',\n",
       " 'likely',\n",
       " 'limit',\n",
       " 'links',\n",
       " 'little',\n",
       " 'liver',\n",
       " 'living',\n",
       " 'longer',\n",
       " 'looking',\n",
       " 'lower',\n",
       " 'lunch',\n",
       " 'making',\n",
       " 'mammogram',\n",
       " 'marathon',\n",
       " 'marijuana',\n",
       " 'market',\n",
       " 'marriage',\n",
       " 'matter',\n",
       " 'maybe',\n",
       " 'means',\n",
       " 'measles',\n",
       " 'measure',\n",
       " 'medical',\n",
       " 'medication',\n",
       " 'medicine',\n",
       " 'meditation',\n",
       " 'memory',\n",
       " 'mental',\n",
       " 'middle',\n",
       " 'might',\n",
       " 'million',\n",
       " 'minutes',\n",
       " 'money',\n",
       " 'month',\n",
       " 'morning',\n",
       " 'mother',\n",
       " 'mouse',\n",
       " 'muscle',\n",
       " 'nation',\n",
       " 'national',\n",
       " 'natural',\n",
       " 'nearly',\n",
       " 'night',\n",
       " 'nobel',\n",
       " 'number',\n",
       " 'obama',\n",
       " 'obamacare',\n",
       " 'obese',\n",
       " 'obesity',\n",
       " 'offer',\n",
       " 'official',\n",
       " 'often',\n",
       " 'older',\n",
       " 'online',\n",
       " 'option',\n",
       " 'order',\n",
       " 'others',\n",
       " 'outbreak',\n",
       " 'overweight',\n",
       " 'panel',\n",
       " 'parent',\n",
       " 'parenthood',\n",
       " 'patent',\n",
       " 'patient',\n",
       " 'pediatrician',\n",
       " 'pedometerwars',\n",
       " 'people',\n",
       " 'phone',\n",
       " 'player',\n",
       " 'point',\n",
       " 'pollution',\n",
       " 'possible',\n",
       " 'pound',\n",
       " 'power',\n",
       " 'predict',\n",
       " 'pregnancy',\n",
       " 'pregnant',\n",
       " 'premature',\n",
       " 'prescription',\n",
       " 'pressure',\n",
       " 'prevent',\n",
       " 'prize',\n",
       " 'probably',\n",
       " 'problem',\n",
       " 'produce',\n",
       " 'product',\n",
       " 'program',\n",
       " 'promise',\n",
       " 'prompt',\n",
       " 'prostate',\n",
       " 'protect',\n",
       " 'protein',\n",
       " 'public',\n",
       " 'question',\n",
       " 'raise',\n",
       " 'rates',\n",
       " 'reach',\n",
       " 'really',\n",
       " 'reason',\n",
       " 'recall',\n",
       " 'record',\n",
       " 'reduce',\n",
       " 'reform',\n",
       " 'regular',\n",
       " 'remain',\n",
       " 'report',\n",
       " 'research',\n",
       " 'researcher',\n",
       " 'restaurant',\n",
       " 'result',\n",
       " 'reveal',\n",
       " 'reverse',\n",
       " 'right',\n",
       " 'ruling',\n",
       " 'running',\n",
       " 'safety',\n",
       " 'school',\n",
       " 'science',\n",
       " 'scientist',\n",
       " 'screening',\n",
       " 'season',\n",
       " 'second',\n",
       " 'serious',\n",
       " 'sexual',\n",
       " 'shape',\n",
       " 'share',\n",
       " 'shopping',\n",
       " 'simple',\n",
       " 'since',\n",
       " 'single',\n",
       " 'sitting',\n",
       " 'sleep',\n",
       " 'small',\n",
       " 'smoke',\n",
       " 'smoker',\n",
       " 'smoking',\n",
       " 'snack',\n",
       " 'something',\n",
       " 'sound',\n",
       " 'spend',\n",
       " 'sport',\n",
       " 'spread',\n",
       " 'start',\n",
       " 'state',\n",
       " 'steps',\n",
       " 'still',\n",
       " 'story',\n",
       " 'strain',\n",
       " 'stress',\n",
       " 'stretch',\n",
       " 'strike',\n",
       " 'stroke',\n",
       " 'strong',\n",
       " 'student',\n",
       " 'study',\n",
       " 'success',\n",
       " 'suffer',\n",
       " 'sugar',\n",
       " 'suggest',\n",
       " 'suicide',\n",
       " 'summer',\n",
       " 'supplement',\n",
       " 'support',\n",
       " 'supreme',\n",
       " 'surgery',\n",
       " 'surprise',\n",
       " 'survey',\n",
       " 'survivor',\n",
       " 'symptom',\n",
       " 'system',\n",
       " 'taking',\n",
       " 'talks',\n",
       " 'teens',\n",
       " 'thank',\n",
       " 'thanks',\n",
       " 'thats',\n",
       " 'therapy',\n",
       " 'there',\n",
       " 'theyre',\n",
       " 'thing',\n",
       " 'think',\n",
       " 'though',\n",
       " 'thought',\n",
       " 'three',\n",
       " 'times',\n",
       " 'tobacco',\n",
       " 'today',\n",
       " 'total',\n",
       " 'track',\n",
       " 'transplant',\n",
       " 'treat',\n",
       " 'treatment',\n",
       " 'trial',\n",
       " 'trouble',\n",
       " 'tumor',\n",
       " 'using',\n",
       " 'vaccination',\n",
       " 'vaccine',\n",
       " 'vegetable',\n",
       " 'video',\n",
       " 'violence',\n",
       " 'virus',\n",
       " 'vitamin',\n",
       " 'walking',\n",
       " 'warning',\n",
       " 'watch',\n",
       " 'water',\n",
       " 'weekend',\n",
       " 'weigh',\n",
       " 'weight',\n",
       " 'weightloss',\n",
       " 'whats',\n",
       " 'whether',\n",
       " 'white',\n",
       " 'without',\n",
       " 'woman',\n",
       " 'worker',\n",
       " 'working',\n",
       " 'workout',\n",
       " 'works',\n",
       " 'world',\n",
       " 'worldwide',\n",
       " 'worry',\n",
       " 'worse',\n",
       " 'worth',\n",
       " 'would',\n",
       " 'write',\n",
       " 'years',\n",
       " 'young']"
      ]
     },
     "execution_count": 28,
     "metadata": {},
     "output_type": "execute_result"
    }
   ],
   "source": [
    "# return the feature names\n",
    "feature_names_vec2 = vectorizer2.get_feature_names()\n",
    "feature_names_vec2"
   ]
  },
  {
   "cell_type": "markdown",
   "id": "e01be16a",
   "metadata": {},
   "source": [
    "2. Define and fit the NMF algorithm using the number of topics (n_components) value from Part 2."
   ]
  },
  {
   "cell_type": "code",
   "execution_count": 29,
   "id": "5387ad50",
   "metadata": {},
   "outputs": [
    {
     "name": "stderr",
     "output_type": "stream",
     "text": [
      "C:\\Users\\jacks\\anaconda3\\envs\\UL\\lib\\site-packages\\ipykernel\\ipkernel.py:287: DeprecationWarning: `should_run_async` will not call `transform_cell` automatically in the future. Please pass the result to `transformed_cell` argument and any exception that happen during thetransform in `preprocessing_exc_tuple` in IPython 7.17 and above.\n",
      "  and should_run_async(code)\n"
     ]
    },
    {
     "data": {
      "text/plain": [
       "NMF(alpha=0.1, beta_loss='frobenius', init='nndsvda', l1_ratio=0.5,\n",
       "    max_iter=200, n_components=2, random_state=0, shuffle=False, solver='mu',\n",
       "    tol=0.0001, verbose=0)"
      ]
     },
     "execution_count": 29,
     "metadata": {},
     "output_type": "execute_result"
    }
   ],
   "source": [
    "# define the NMF model and call the fit function using the output of the TF-IDF vectorizer\n",
    "nmf = sklearn.decomposition.NMF(n_components=optimal_num_topics, init=\"nndsvda\", solver=\"mu\", beta_loss=\"frobenius\", random_state=0, alpha=0.1, l1_ratio=0.5)\n",
    "nmf.fit(clean_vec2)"
   ]
  },
  {
   "cell_type": "markdown",
   "id": "5f4c5123",
   "metadata": {},
   "source": [
    "3. Get the topic-document and word-topic tables. Take a few minutes to explore the word groupings and try to define the abstract topics. Give a quantitative description of the meanings of the word groupings. Do the word groupings make sense? Are the results similar to those produced using LDA?"
   ]
  },
  {
   "cell_type": "code",
   "execution_count": 30,
   "id": "e1385fd8",
   "metadata": {},
   "outputs": [
    {
     "name": "stderr",
     "output_type": "stream",
     "text": [
      "C:\\Users\\jacks\\anaconda3\\envs\\UL\\lib\\site-packages\\ipykernel\\ipkernel.py:287: DeprecationWarning: `should_run_async` will not call `transform_cell` automatically in the future. Please pass the result to `transformed_cell` argument and any exception that happen during thetransform in `preprocessing_exc_tuple` in IPython 7.17 and above.\n",
      "  and should_run_async(code)\n"
     ]
    }
   ],
   "source": [
    "# run the get_topics function\n",
    "W_df2, H_df2 = get_topics(mod=nmf, vec=clean_vec2, names=feature_names_vec2, docs=raw, ndocs=number_docs, nwords=number_words)"
   ]
  },
  {
   "cell_type": "code",
   "execution_count": 31,
   "id": "0fca5e64",
   "metadata": {},
   "outputs": [
    {
     "name": "stdout",
     "output_type": "stream",
     "text": [
      "                  Topic0               Topic1\n",
      "Word0    (0.2874, study)     (0.4033, latfit)\n",
      "Word1   (0.0199, cancer)      (0.0438, steps)\n",
      "Word2  (0.0183, suggest)      (0.0419, today)\n",
      "Word3  (0.0176, obesity)   (0.0419, exercise)\n",
      "Word4   (0.0172, people)    (0.0259, walking)\n",
      "Word5   (0.0166, weight)  (0.024, healthtips)\n",
      "Word6     (0.014, brain)     (0.024, workout)\n",
      "Word7   (0.0138, health)    (0.0234, getting)\n",
      "Word8    (0.0132, heart)    (0.0189, weekend)\n",
      "Word9    (0.0126, death)    (0.0173, fitness)\n"
     ]
    },
    {
     "name": "stderr",
     "output_type": "stream",
     "text": [
      "C:\\Users\\jacks\\anaconda3\\envs\\UL\\lib\\site-packages\\ipykernel\\ipkernel.py:287: DeprecationWarning: `should_run_async` will not call `transform_cell` automatically in the future. Please pass the result to `transformed_cell` argument and any exception that happen during thetransform in `preprocessing_exc_tuple` in IPython 7.17 and above.\n",
      "  and should_run_async(code)\n"
     ]
    }
   ],
   "source": [
    "# print word-topic table\n",
    "print(W_df2)"
   ]
  },
  {
   "cell_type": "code",
   "execution_count": 32,
   "id": "1b1f22f5",
   "metadata": {},
   "outputs": [
    {
     "name": "stdout",
     "output_type": "stream",
     "text": [
      "                                                 Topic0  \\\n",
      "Doc0  (0.2419, Study finds link between high fructos...   \n",
      "Doc1  (0.2419, Couch potatoes and high-intensity run...   \n",
      "Doc2  (0.2419, The case against funding studies on a...   \n",
      "Doc3  (0.2419, Which American cities are fittest? ht...   \n",
      "Doc4  (0.2419, Exposure to light at night may contri...   \n",
      "Doc5  (0.2419, New documentary \"All of Me\" explores ...   \n",
      "Doc6  (0.2419, Early Bird or Night Owl? Blood test r...   \n",
      "Doc7  (0.2419, Too stressed to exercise? Think again...   \n",
      "Doc8  (0.2419, The latest health advice: Do NOT shak...   \n",
      "Doc9  (0.2419, You can tone your glutes, hamstrings ...   \n",
      "\n",
      "                                                 Topic1  \n",
      "Doc0  (0.269, So Elton John has \"appendix abscess su...  \n",
      "Doc1  (0.269, Need help getting your kids to bed on ...  \n",
      "Doc2  (0.269, RT @latimesscience: The Genomics @xpri...  \n",
      "Doc3  (0.269, Doctors find a simple way to manage hi...  \n",
      "Doc4  (0.269, Scientists find a way to tell if suppo...  \n",
      "Doc5  (0.269, Summer camp with a twist: Physical the...  \n",
      "Doc6  (0.269, #LATfit tip from @renelynch: Find easy...  \n",
      "Doc7  (0.269, Jackie Joyner-Kersee on family health ...  \n",
      "Doc8  (0.269, Obesity gene makes people more likely ...  \n",
      "Doc9  (0.269, New Lyme disease-like infection is on ...  \n"
     ]
    },
    {
     "name": "stderr",
     "output_type": "stream",
     "text": [
      "C:\\Users\\jacks\\anaconda3\\envs\\UL\\lib\\site-packages\\ipykernel\\ipkernel.py:287: DeprecationWarning: `should_run_async` will not call `transform_cell` automatically in the future. Please pass the result to `transformed_cell` argument and any exception that happen during thetransform in `preprocessing_exc_tuple` in IPython 7.17 and above.\n",
      "  and should_run_async(code)\n"
     ]
    }
   ],
   "source": [
    "# print document-topic table\n",
    "\n",
    "print(H_df2)"
   ]
  },
  {
   "cell_type": "code",
   "execution_count": 34,
   "id": "d335e710",
   "metadata": {},
   "outputs": [
    {
     "name": "stdout",
     "output_type": "stream",
     "text": [
      "                  Topic0                Topic1             Topic0  \\\n",
      "Word0    (0.0752, study)      (0.0438, latfit)    (0.2874, study)   \n",
      "Word1   (0.0278, cancer)      (0.0351, health)   (0.0199, cancer)   \n",
      "Word2  (0.0274, company)      (0.0163, report)  (0.0183, suggest)   \n",
      "Word3   (0.0266, coming)  (0.0153, healthcare)  (0.0176, obesity)   \n",
      "Word4   (0.0218, people)      (0.0152, weight)   (0.0172, people)   \n",
      "Word5  (0.0199, patient)  (0.0147, california)   (0.0166, weight)   \n",
      "Word6    (0.0182, could)    (0.0144, american)     (0.014, brain)   \n",
      "Word7    (0.0157, death)      (0.0124, expert)   (0.0138, health)   \n",
      "Word8  (0.0155, obesity)      (0.0109, better)    (0.0132, heart)   \n",
      "Word9    (0.0151, heart)       (0.0108, years)    (0.0126, death)   \n",
      "\n",
      "                    Topic1  \n",
      "Word0     (0.4033, latfit)  \n",
      "Word1      (0.0438, steps)  \n",
      "Word2      (0.0419, today)  \n",
      "Word3   (0.0419, exercise)  \n",
      "Word4    (0.0259, walking)  \n",
      "Word5  (0.024, healthtips)  \n",
      "Word6     (0.024, workout)  \n",
      "Word7    (0.0234, getting)  \n",
      "Word8    (0.0189, weekend)  \n",
      "Word9    (0.0173, fitness)  \n"
     ]
    },
    {
     "name": "stderr",
     "output_type": "stream",
     "text": [
      "C:\\Users\\jacks\\anaconda3\\envs\\UL\\lib\\site-packages\\ipykernel\\ipkernel.py:287: DeprecationWarning: `should_run_async` will not call `transform_cell` automatically in the future. Please pass the result to `transformed_cell` argument and any exception that happen during thetransform in `preprocessing_exc_tuple` in IPython 7.17 and above.\n",
      "  and should_run_async(code)\n"
     ]
    }
   ],
   "source": [
    "compare = pandas.concat([W_df, W_df2], axis=1)\n",
    "print(compare)"
   ]
  },
  {
   "cell_type": "markdown",
   "id": "cdefdba5",
   "metadata": {},
   "source": [
    "**Comments:**<br>\n",
    "The word groupings make sense for both topics. The first one is more likely related to a health study. The second topic is more related to exercise and fitness. The words are related to each other so they both make sense. \n",
    "\n",
    "From the comparison above, we found that for topic 0, the first two topics are the same for the two models. The same returned words from topic 0 are study, cancer, people, death, heart, and obesity, so 6 out of 10 words are the same. The same returned words from topic 1 are only latfit. So it does not generate the same output for the second topic. "
   ]
  },
  {
   "cell_type": "markdown",
   "id": "e966e9db",
   "metadata": {},
   "source": [
    "4. Adjust the model parameters and rerun Step 3 and Step 4. How do the results change?\n",
    "The output will be as follows:"
   ]
  },
  {
   "cell_type": "code",
   "execution_count": 35,
   "id": "79f3e33e",
   "metadata": {},
   "outputs": [
    {
     "name": "stderr",
     "output_type": "stream",
     "text": [
      "C:\\Users\\jacks\\anaconda3\\envs\\UL\\lib\\site-packages\\ipykernel\\ipkernel.py:287: DeprecationWarning: `should_run_async` will not call `transform_cell` automatically in the future. Please pass the result to `transformed_cell` argument and any exception that happen during thetransform in `preprocessing_exc_tuple` in IPython 7.17 and above.\n",
      "  and should_run_async(code)\n"
     ]
    },
    {
     "data": {
      "text/plain": [
       "NMF(alpha=0.3, beta_loss='frobenius', init='nndsvda', l1_ratio=0.3,\n",
       "    max_iter=200, n_components=2, random_state=0, shuffle=False, solver='mu',\n",
       "    tol=0.0001, verbose=0)"
      ]
     },
     "execution_count": 35,
     "metadata": {},
     "output_type": "execute_result"
    }
   ],
   "source": [
    "# define the NMF model and call the fit function using the output of the TF-IDF vectorizer\n",
    "nmf2 = sklearn.decomposition.NMF(n_components=optimal_num_topics, init=\"nndsvda\", solver=\"mu\", beta_loss=\"frobenius\", random_state=0, alpha=0.3, l1_ratio=0.3)\n",
    "nmf2.fit(clean_vec2)"
   ]
  },
  {
   "cell_type": "code",
   "execution_count": 36,
   "id": "0538afcb",
   "metadata": {},
   "outputs": [
    {
     "name": "stderr",
     "output_type": "stream",
     "text": [
      "C:\\Users\\jacks\\anaconda3\\envs\\UL\\lib\\site-packages\\ipykernel\\ipkernel.py:287: DeprecationWarning: `should_run_async` will not call `transform_cell` automatically in the future. Please pass the result to `transformed_cell` argument and any exception that happen during thetransform in `preprocessing_exc_tuple` in IPython 7.17 and above.\n",
      "  and should_run_async(code)\n"
     ]
    }
   ],
   "source": [
    "# run the get_topics function\n",
    "W_df3, H_df3 = get_topics(mod=nmf2, vec=clean_vec2, names=feature_names_vec2, docs=raw, ndocs=number_docs, nwords=number_words)"
   ]
  },
  {
   "cell_type": "code",
   "execution_count": 37,
   "id": "3290670f",
   "metadata": {},
   "outputs": [
    {
     "name": "stdout",
     "output_type": "stream",
     "text": [
      "                  Topic0                   Topic1\n",
      "Word0    (0.3939, study)           (0.46, latfit)\n",
      "Word1  (0.0232, suggest)          (0.0479, steps)\n",
      "Word2  (0.0191, obesity)          (0.0448, today)\n",
      "Word3    (0.019, weight)        (0.044, exercise)\n",
      "Word4   (0.0185, cancer)        (0.0282, walking)\n",
      "Word5    (0.017, people)     (0.0254, healthtips)\n",
      "Word6    (0.0145, brain)        (0.0236, getting)\n",
      "Word7    (0.0133, teens)        (0.0231, workout)\n",
      "Word8    (0.0132, heart)        (0.0199, weekend)\n",
      "Word9    (0.0131, death)  (0.0171, pedometerwars)\n"
     ]
    },
    {
     "name": "stderr",
     "output_type": "stream",
     "text": [
      "C:\\Users\\jacks\\anaconda3\\envs\\UL\\lib\\site-packages\\ipykernel\\ipkernel.py:287: DeprecationWarning: `should_run_async` will not call `transform_cell` automatically in the future. Please pass the result to `transformed_cell` argument and any exception that happen during thetransform in `preprocessing_exc_tuple` in IPython 7.17 and above.\n",
      "  and should_run_async(code)\n"
     ]
    }
   ],
   "source": [
    "# print word-topic table\n",
    "print(W_df3)"
   ]
  },
  {
   "cell_type": "code",
   "execution_count": 38,
   "id": "dcbc09e7",
   "metadata": {},
   "outputs": [
    {
     "name": "stdout",
     "output_type": "stream",
     "text": [
      "                                                 Topic0  \\\n",
      "Doc0  (0.2367, 6,000 women a day hit menopause http:...   \n",
      "Doc1  (0.2367, The latest health advice: Do NOT shak...   \n",
      "Doc2  (0.2367, You can tone your glutes, hamstrings ...   \n",
      "Doc3  (0.2367, New documentary \"All of Me\" explores ...   \n",
      "Doc4  (0.2367, Do you work out? So do scientists. Th...   \n",
      "Doc5  (0.2367, Sugar lovers. The 'right' amt is not ...   \n",
      "Doc6  (0.2367, L.A. billionaire unveils plan to make...   \n",
      "Doc7  (0.2367, Nation's obesity problem demands swee...   \n",
      "Doc8  (0.2367, Breast cancer awareness month is tout...   \n",
      "Doc9  (0.2367, Couch potatoes and high-intensity run...   \n",
      "\n",
      "                                                 Topic1  \n",
      "Doc0  (0.2593, Advocacy group says Long John Silver'...  \n",
      "Doc1  (0.2593, RT @julie_cart: Prescription for conf...  \n",
      "Doc2  (0.2593, Cooking with gas? Your meal could com...  \n",
      "Doc3  (0.2593, So Elton John has \"appendix abscess s...  \n",
      "Doc4  (0.2593, New documentary on obesity follows a ...  \n",
      "Doc5  (0.2593, Need help getting your kids to bed on...  \n",
      "Doc6  (0.2593, Are you sitting at your desk reading ...  \n",
      "Doc7  (0.2593, Baby boomers may live longer, but the...  \n",
      "Doc8  (0.2593, So much for that saying about sticks ...  \n",
      "Doc9  (0.2593, RT @latimesscience: The Genomics @xpr...  \n"
     ]
    },
    {
     "name": "stderr",
     "output_type": "stream",
     "text": [
      "C:\\Users\\jacks\\anaconda3\\envs\\UL\\lib\\site-packages\\ipykernel\\ipkernel.py:287: DeprecationWarning: `should_run_async` will not call `transform_cell` automatically in the future. Please pass the result to `transformed_cell` argument and any exception that happen during thetransform in `preprocessing_exc_tuple` in IPython 7.17 and above.\n",
      "  and should_run_async(code)\n"
     ]
    }
   ],
   "source": [
    "# print document-topic table\n",
    "print(H_df3)"
   ]
  },
  {
   "cell_type": "code",
   "execution_count": 39,
   "id": "7e78f23d",
   "metadata": {},
   "outputs": [
    {
     "name": "stdout",
     "output_type": "stream",
     "text": [
      "                  Topic0                Topic1             Topic0  \\\n",
      "Word0    (0.0752, study)      (0.0438, latfit)    (0.2874, study)   \n",
      "Word1   (0.0278, cancer)      (0.0351, health)   (0.0199, cancer)   \n",
      "Word2  (0.0274, company)      (0.0163, report)  (0.0183, suggest)   \n",
      "Word3   (0.0266, coming)  (0.0153, healthcare)  (0.0176, obesity)   \n",
      "Word4   (0.0218, people)      (0.0152, weight)   (0.0172, people)   \n",
      "Word5  (0.0199, patient)  (0.0147, california)   (0.0166, weight)   \n",
      "Word6    (0.0182, could)    (0.0144, american)     (0.014, brain)   \n",
      "Word7    (0.0157, death)      (0.0124, expert)   (0.0138, health)   \n",
      "Word8  (0.0155, obesity)      (0.0109, better)    (0.0132, heart)   \n",
      "Word9    (0.0151, heart)       (0.0108, years)    (0.0126, death)   \n",
      "\n",
      "                    Topic1             Topic0                   Topic1  \n",
      "Word0     (0.4033, latfit)    (0.3939, study)           (0.46, latfit)  \n",
      "Word1      (0.0438, steps)  (0.0232, suggest)          (0.0479, steps)  \n",
      "Word2      (0.0419, today)  (0.0191, obesity)          (0.0448, today)  \n",
      "Word3   (0.0419, exercise)    (0.019, weight)        (0.044, exercise)  \n",
      "Word4    (0.0259, walking)   (0.0185, cancer)        (0.0282, walking)  \n",
      "Word5  (0.024, healthtips)    (0.017, people)     (0.0254, healthtips)  \n",
      "Word6     (0.024, workout)    (0.0145, brain)        (0.0236, getting)  \n",
      "Word7    (0.0234, getting)    (0.0133, teens)        (0.0231, workout)  \n",
      "Word8    (0.0189, weekend)    (0.0132, heart)        (0.0199, weekend)  \n",
      "Word9    (0.0173, fitness)    (0.0131, death)  (0.0171, pedometerwars)  \n"
     ]
    },
    {
     "name": "stderr",
     "output_type": "stream",
     "text": [
      "C:\\Users\\jacks\\anaconda3\\envs\\UL\\lib\\site-packages\\ipykernel\\ipkernel.py:287: DeprecationWarning: `should_run_async` will not call `transform_cell` automatically in the future. Please pass the result to `transformed_cell` argument and any exception that happen during thetransform in `preprocessing_exc_tuple` in IPython 7.17 and above.\n",
      "  and should_run_async(code)\n"
     ]
    }
   ],
   "source": [
    "compare2 = pandas.concat([W_df, W_df2, W_df3], axis=1)\n",
    "print(compare2)"
   ]
  },
  {
   "cell_type": "markdown",
   "id": "aedde321",
   "metadata": {},
   "source": [
    "**Comments:**<br>\n",
    "From the table above, the first topic is more likely related to a health study. The second topic is more related to exercise and fitness again. The words are related to each other so they both make sense. However, for the second topic, there are words such as weekend is less related to workout or exercise topic. \n",
    "\n",
    "From the comparison above, we found that all three models return the same first top topic 'study' for topic0 and 'latfit' for topic1. However, it looks like the second model with alpha =0.1 and l1_ratio = 0.5 generate a better performance since the top topics are more related to each other. "
   ]
  },
  {
   "cell_type": "code",
   "execution_count": null,
   "id": "c5dce137",
   "metadata": {},
   "outputs": [],
   "source": []
  }
 ],
 "metadata": {
  "kernelspec": {
   "display_name": "Python 3",
   "language": "python",
   "name": "python3"
  },
  "language_info": {
   "codemirror_mode": {
    "name": "ipython",
    "version": 3
   },
   "file_extension": ".py",
   "mimetype": "text/x-python",
   "name": "python",
   "nbconvert_exporter": "python",
   "pygments_lexer": "ipython3",
   "version": "3.7.13"
  }
 },
 "nbformat": 4,
 "nbformat_minor": 5
}
